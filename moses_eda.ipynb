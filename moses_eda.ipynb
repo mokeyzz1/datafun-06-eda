{
 "cells": [
  {
   "cell_type": "code",
   "execution_count": 1,
   "metadata": {},
   "outputs": [
    {
     "name": "stdout",
     "output_type": "stream",
     "text": [
      "                    title         year certificate duration  \\\n",
      "0               Cobra Kai     (2018– )       TV-14   30 min   \n",
      "1               The Crown     (2016– )       TV-MA   58 min   \n",
      "2        Better Call Saul  (2015–2022)       TV-MA   46 min   \n",
      "3           Devil in Ohio       (2022)       TV-MA  356 min   \n",
      "4  Cyberpunk: Edgerunners     (2022– )       TV-MA   24 min   \n",
      "\n",
      "                          genre  rating  \\\n",
      "0         Action, Comedy, Drama     8.5   \n",
      "1     Biography, Drama, History     8.7   \n",
      "2                  Crime, Drama     8.9   \n",
      "3        Drama, Horror, Mystery     5.9   \n",
      "4  Animation, Action, Adventure     8.6   \n",
      "\n",
      "                                         description  \\\n",
      "0  Decades after their 1984 All Valley Karate Tou...   \n",
      "1  Follows the political rivalries and romance of...   \n",
      "2  The trials and tribulations of criminal lawyer...   \n",
      "3  When a psychiatrist shelters a mysterious cult...   \n",
      "4  A Street Kid trying to survive in a technology...   \n",
      "\n",
      "                                               stars    votes  \n",
      "0  ['Ralph Macchio, ', 'William Zabka, ', 'Courtn...  177,031  \n",
      "1  ['Claire Foy, ', 'Olivia Colman, ', 'Imelda St...  199,885  \n",
      "2  ['Bob Odenkirk, ', 'Rhea Seehorn, ', 'Jonathan...  501,384  \n",
      "3  ['Emily Deschanel, ', 'Sam Jaeger, ', 'Gerardo...    9,773  \n",
      "4  ['Zach Aguilar, ', 'Kenichiro Ohashi, ', 'Emi ...   15,413  \n"
     ]
    }
   ],
   "source": [
    "import pandas as pd\n",
    "import seaborn as sns\n",
    "import matplotlib.pyplot as plt\n",
    "\n",
    "# Load the dataset into a pandas DataFrame\n",
    "df = pd.read_csv('/Users/mk/Downloads/IMBD.csv')\n",
    "\n",
    "# Inspect the first rows of the DataFrame\n",
    "print(df.head())\n"
   ]
  },
  {
   "cell_type": "code",
   "execution_count": null,
   "metadata": {},
   "outputs": [],
   "source": []
  },
  {
   "cell_type": "code",
   "execution_count": 2,
   "metadata": {},
   "outputs": [
    {
     "name": "stdout",
     "output_type": "stream",
     "text": [
      "                    title         year certificate duration  \\\n",
      "0               Cobra Kai     (2018– )       TV-14   30 min   \n",
      "1               The Crown     (2016– )       TV-MA   58 min   \n",
      "2        Better Call Saul  (2015–2022)       TV-MA   46 min   \n",
      "3           Devil in Ohio       (2022)       TV-MA  356 min   \n",
      "4  Cyberpunk: Edgerunners     (2022– )       TV-MA   24 min   \n",
      "5             The Sandman     (2022– )       TV-MA   45 min   \n",
      "6          Rick and Morty     (2013– )       TV-MA   23 min   \n",
      "7            Breaking Bad  (2008–2013)       TV-MA   49 min   \n",
      "8          The Imperfects     (2022– )       TV-MA   45 min   \n",
      "9                  Blonde       (2022)       NC-17  166 min   \n",
      "\n",
      "                          genre  rating  \\\n",
      "0         Action, Comedy, Drama     8.5   \n",
      "1     Biography, Drama, History     8.7   \n",
      "2                  Crime, Drama     8.9   \n",
      "3        Drama, Horror, Mystery     5.9   \n",
      "4  Animation, Action, Adventure     8.6   \n",
      "5        Drama, Fantasy, Horror     7.8   \n",
      "6  Animation, Adventure, Comedy     9.2   \n",
      "7        Crime, Drama, Thriller     9.5   \n",
      "8      Action, Adventure, Drama     6.3   \n",
      "9     Biography, Drama, Mystery     6.2   \n",
      "\n",
      "                                         description  \\\n",
      "0  Decades after their 1984 All Valley Karate Tou...   \n",
      "1  Follows the political rivalries and romance of...   \n",
      "2  The trials and tribulations of criminal lawyer...   \n",
      "3  When a psychiatrist shelters a mysterious cult...   \n",
      "4  A Street Kid trying to survive in a technology...   \n",
      "5  Upon escaping after decades of imprisonment by...   \n",
      "6  An animated series that follows the exploits o...   \n",
      "7  A high school chemistry teacher diagnosed with...   \n",
      "8  After an experimental gene therapy turns them ...   \n",
      "9  A fictionalized chronicle of the inner life of...   \n",
      "\n",
      "                                               stars      votes  \n",
      "0  ['Ralph Macchio, ', 'William Zabka, ', 'Courtn...    177,031  \n",
      "1  ['Claire Foy, ', 'Olivia Colman, ', 'Imelda St...    199,885  \n",
      "2  ['Bob Odenkirk, ', 'Rhea Seehorn, ', 'Jonathan...    501,384  \n",
      "3  ['Emily Deschanel, ', 'Sam Jaeger, ', 'Gerardo...      9,773  \n",
      "4  ['Zach Aguilar, ', 'Kenichiro Ohashi, ', 'Emi ...     15,413  \n",
      "5  ['Tom Sturridge, ', 'Boyd Holbrook, ', 'Patton...    116,358  \n",
      "6  ['Justin Roiland, ', 'Chris Parnell, ', 'Spenc...    502,160  \n",
      "7  ['Bryan Cranston, ', 'Aaron Paul, ', 'Anna Gun...  1,831,340  \n",
      "8  ['Morgan Taylor Campbell, ', 'Italia Ricci, ',...      3,123  \n",
      "9  ['Andrew Dominik', '| ', '    Stars:', 'Ana de...        935  \n",
      "Shape of DataFrame: (9957, 9)\n",
      "Data types:\n",
      " title           object\n",
      "year            object\n",
      "certificate     object\n",
      "duration        object\n",
      "genre           object\n",
      "rating         float64\n",
      "description     object\n",
      "stars           object\n",
      "votes           object\n",
      "dtype: object\n"
     ]
    }
   ],
   "source": [
    "# Display the first 10 rows of the DataFrame\n",
    "print(df.head(10))\n",
    "\n",
    "# Check the shape of the DataFrame\n",
    "print(\"Shape of DataFrame:\", df.shape)\n",
    "\n",
    "# Display data types of each column\n",
    "print(\"Data types:\\n\", df.dtypes)\n"
   ]
  },
  {
   "cell_type": "code",
   "execution_count": 6,
   "metadata": {},
   "outputs": [
    {
     "name": "stdout",
     "output_type": "stream",
     "text": [
      "            rating\n",
      "count  8784.000000\n",
      "mean      6.764515\n",
      "std       1.214840\n",
      "min       1.700000\n",
      "25%       6.100000\n",
      "50%       6.900000\n",
      "75%       7.600000\n",
      "max       9.900000\n"
     ]
    }
   ],
   "source": [
    "# Display summary statistics for each column\n",
    "print(df.describe())\n"
   ]
  },
  {
   "cell_type": "code",
   "execution_count": null,
   "metadata": {},
   "outputs": [],
   "source": [
    "# Inspect histogram for a specific numerical column (e.g., 'rating')\n",
    "df['rating'].hist(bins=20, edgecolor='black')\n",
    "plt.title('Distribution of Ratings')\n",
    "plt.xlabel('Rating')\n",
    "plt.ylabel('Frequency')\n",
    "plt.show()\n",
    "\n",
    "# Inspect histograms for all numerical columns\n",
    "df.hist(bins=20, figsize=(15, 10), edgecolor='black')\n",
    "plt.suptitle('Histograms of Numerical Columns')\n",
    "plt.show()\n"
   ]
  }
 ],
 "metadata": {
  "kernelspec": {
   "display_name": ".venv",
   "language": "python",
   "name": "python3"
  },
  "language_info": {
   "codemirror_mode": {
    "name": "ipython",
    "version": 3
   },
   "file_extension": ".py",
   "mimetype": "text/x-python",
   "name": "python",
   "nbconvert_exporter": "python",
   "pygments_lexer": "ipython3",
   "version": "3.11.7"
  }
 },
 "nbformat": 4,
 "nbformat_minor": 2
}
